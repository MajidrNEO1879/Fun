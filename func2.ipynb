{
 "cells": [
  {
   "cell_type": "markdown",
   "metadata": {},
   "source": [
    "Given an integer x, return true if x is a\n",
    "palindrome -> 121 , 242 , etc"
   ]
  },
  {
   "cell_type": "code",
   "execution_count": 118,
   "metadata": {},
   "outputs": [
    {
     "name": "stdout",
     "output_type": "stream",
     "text": [
      "True\n"
     ]
    }
   ],
   "source": [
    "def palindrome (a:int)->bool:\n",
    "    y = str(a)\n",
    "    return y[:] == y[::-1]\n",
    "#print (palindrome(121))\n",
    "\n",
    "\n",
    "def palindrome(a: int) -> bool:\n",
    "    if a < 0:\n",
    "        return False\n",
    "    original = a\n",
    "    reversed_num = 0\n",
    "    while a > 0:\n",
    "        digit = a % 10\n",
    "        reversed_num = reversed_num * 10 + digit\n",
    "        a = a // 10\n",
    "    return original == reversed_num\n",
    "\n",
    "print (palindrome(121))"
   ]
  }
 ],
 "metadata": {
  "kernelspec": {
   "display_name": "Python 3",
   "language": "python",
   "name": "python3"
  },
  "language_info": {
   "codemirror_mode": {
    "name": "ipython",
    "version": 3
   },
   "file_extension": ".py",
   "mimetype": "text/x-python",
   "name": "python",
   "nbconvert_exporter": "python",
   "pygments_lexer": "ipython3",
   "version": "3.10.12"
  }
 },
 "nbformat": 4,
 "nbformat_minor": 2
}
