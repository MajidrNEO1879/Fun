{
 "cells": [
  {
   "cell_type": "markdown",
   "metadata": {},
   "source": [
    "Given an integer x, return true if x is a\n",
    "palindrome -> 121 , 242 , etc"
   ]
  },
  {
   "cell_type": "code",
   "execution_count": 118,
   "metadata": {},
   "outputs": [
    {
     "name": "stdout",
     "output_type": "stream",
     "text": [
      "True\n"
     ]
    }
   ],
   "source": [
    "def palindrome (a:int)->bool:\n",
    "    y = str(a)\n",
    "    return y[:] == y[::-1]\n",
    "#print (palindrome(121))\n",
    "\n",
    "\n",
    "def palindrome(a: int) -> bool:\n",
    "    if a < 0:\n",
    "        return False\n",
    "    original = a\n",
    "    reversed_num = 0\n",
    "    while a > 0:\n",
    "        digit = a % 10\n",
    "        reversed_num = reversed_num * 10 + digit\n",
    "        a = a // 10\n",
    "    return original == reversed_num\n",
    "\n",
    "print (palindrome(121))"
   ]
  },
  {
   "cell_type": "code",
   "execution_count": 21,
   "metadata": {},
   "outputs": [
    {
     "name": "stdout",
     "output_type": "stream",
     "text": [
      "5\n",
      "15\n",
      "4\n",
      "945\n",
      "*\n",
      "*\n",
      "*\n",
      "*\n"
     ]
    },
    {
     "ename": "TypeError",
     "evalue": "list indices must be integers or slices, not float",
     "output_type": "error",
     "traceback": [
      "\u001b[0;31m---------------------------------------------------------------------------\u001b[0m",
      "\u001b[0;31mTypeError\u001b[0m                                 Traceback (most recent call last)",
      "\u001b[0;32m/tmp/ipykernel_34471/1294066531.py\u001b[0m in \u001b[0;36m<module>\u001b[0;34m\u001b[0m\n\u001b[1;32m     37\u001b[0m         \u001b[0mindex\u001b[0m \u001b[0;34m=\u001b[0m \u001b[0mlen\u001b[0m\u001b[0;34m(\u001b[0m\u001b[0mc\u001b[0m\u001b[0;34m)\u001b[0m\u001b[0;34m/\u001b[0m\u001b[0;36m2\u001b[0m\u001b[0;34m\u001b[0m\u001b[0;34m\u001b[0m\u001b[0m\n\u001b[1;32m     38\u001b[0m         \u001b[0mprint\u001b[0m \u001b[0;34m(\u001b[0m\u001b[0mc\u001b[0m\u001b[0;34m[\u001b[0m\u001b[0mindex\u001b[0m\u001b[0;34m]\u001b[0m\u001b[0;34m)\u001b[0m\u001b[0;34m\u001b[0m\u001b[0;34m\u001b[0m\u001b[0m\n\u001b[0;32m---> 39\u001b[0;31m \u001b[0mmedian\u001b[0m\u001b[0;34m(\u001b[0m\u001b[0;34m[\u001b[0m\u001b[0;36m1\u001b[0m\u001b[0;34m,\u001b[0m\u001b[0;36m3\u001b[0m\u001b[0;34m]\u001b[0m\u001b[0;34m,\u001b[0m\u001b[0;34m[\u001b[0m\u001b[0;36m2\u001b[0m\u001b[0;34m]\u001b[0m\u001b[0;34m)\u001b[0m\u001b[0;34m\u001b[0m\u001b[0;34m\u001b[0m\u001b[0m\n\u001b[0m",
      "\u001b[0;32m/tmp/ipykernel_34471/1294066531.py\u001b[0m in \u001b[0;36mmedian\u001b[0;34m(a, b)\u001b[0m\n\u001b[1;32m     36\u001b[0m     \u001b[0;32mif\u001b[0m \u001b[0mlen\u001b[0m\u001b[0;34m(\u001b[0m\u001b[0mc\u001b[0m\u001b[0;34m)\u001b[0m\u001b[0;34m%\u001b[0m\u001b[0;36m2\u001b[0m \u001b[0;34m!=\u001b[0m\u001b[0;36m0\u001b[0m\u001b[0;34m:\u001b[0m\u001b[0;34m\u001b[0m\u001b[0;34m\u001b[0m\u001b[0m\n\u001b[1;32m     37\u001b[0m         \u001b[0mindex\u001b[0m \u001b[0;34m=\u001b[0m \u001b[0mlen\u001b[0m\u001b[0;34m(\u001b[0m\u001b[0mc\u001b[0m\u001b[0;34m)\u001b[0m\u001b[0;34m/\u001b[0m\u001b[0;36m2\u001b[0m\u001b[0;34m\u001b[0m\u001b[0;34m\u001b[0m\u001b[0m\n\u001b[0;32m---> 38\u001b[0;31m         \u001b[0mprint\u001b[0m \u001b[0;34m(\u001b[0m\u001b[0mc\u001b[0m\u001b[0;34m[\u001b[0m\u001b[0mindex\u001b[0m\u001b[0;34m]\u001b[0m\u001b[0;34m)\u001b[0m\u001b[0;34m\u001b[0m\u001b[0;34m\u001b[0m\u001b[0m\n\u001b[0m\u001b[1;32m     39\u001b[0m \u001b[0mmedian\u001b[0m\u001b[0;34m(\u001b[0m\u001b[0;34m[\u001b[0m\u001b[0;36m1\u001b[0m\u001b[0;34m,\u001b[0m\u001b[0;36m3\u001b[0m\u001b[0;34m]\u001b[0m\u001b[0;34m,\u001b[0m\u001b[0;34m[\u001b[0m\u001b[0;36m2\u001b[0m\u001b[0;34m]\u001b[0m\u001b[0;34m)\u001b[0m\u001b[0;34m\u001b[0m\u001b[0;34m\u001b[0m\u001b[0m\n",
      "\u001b[0;31mTypeError\u001b[0m: list indices must be integers or slices, not float"
     ]
    }
   ],
   "source": [
    "num =23\n",
    "sum  = 0\n",
    "for i in str(num):\n",
    "    sum +=int(i)\n",
    "print(sum)\n",
    "m1 = [1,0,3]\n",
    "m2=[-1,5,7]\n",
    "sum=0\n",
    "for i in (m1+m2):\n",
    "    sum +=i\n",
    "print (sum)\n",
    "#how to add items?\n",
    "\n",
    "\n",
    "def greatest (a, b, c):\n",
    "    if (a >b and a>c):\n",
    "        print (a)\n",
    "    elif(b>c and b>a):\n",
    "        print (b)\n",
    "    else:\n",
    "        print (c)\n",
    "greatest(0,-5,4)\n",
    "import numpy as np\n",
    "def multplication (a:list)->int:\n",
    "    mulit=1\n",
    "    for i in a:\n",
    "         mulit *=i\n",
    "    print (mulit)\n",
    "multplication([1, 3, 5, 7, 9])\n",
    "n=4\n",
    "for i in range(1, n+1):\n",
    "    print ( '*')\n",
    "def median (a,b)->float:\n",
    "    c=a + b\n",
    "    sorted(c)\n",
    "    if len(c)%2 !=0:\n",
    "        index = len(c)/2\n",
    "        print (c[index])\n",
    "median([1,3],[2])      "
   ]
  },
  {
   "cell_type": "code",
   "execution_count": 18,
   "metadata": {},
   "outputs": [
    {
     "name": "stdout",
     "output_type": "stream",
     "text": [
      "12\n"
     ]
    }
   ],
   "source": [
    "#considering a sequence mapped to a coordiante from 1 - > An\n",
    "#(i, An) \n",
    "from typing import List\n",
    "\n",
    "def max_area(height: List[int]) -> int:\n",
    "    i, j = 0, len(height) - 1\n",
    "    ans = 0\n",
    "    while i < j:\n",
    "        t = (j - i) * min(height[i], height[j])\n",
    "        ans = max(ans, t)\n",
    "        if height[i] < height[j]:\n",
    "            i += 1\n",
    "        else:\n",
    "            j -= 1\n",
    "    return ans\n",
    "\n",
    "# Example usage\n",
    "heights = [1,4,6,2,5]\n",
    "print(max_area(heights))  # Output: 49\n",
    "\n"
   ]
  },
  {
   "cell_type": "code",
   "execution_count": 60,
   "metadata": {},
   "outputs": [
    {
     "name": "stdout",
     "output_type": "stream",
     "text": [
      "[0, 2, 5, 6, 8, 9, 9]\n",
      "7\n",
      "False\n",
      "3\n",
      "6\n"
     ]
    }
   ],
   "source": [
    "#median of two arrays\n",
    "\n",
    "def median (a, b):\n",
    "    c = a + b\n",
    "    print (c)\n",
    "    Lc = len(c)\n",
    "    print(Lc)\n",
    "    if Lc % 2 == 0 :\n",
    "        index1= int(Lc/2)\n",
    "        index2= int((Lc/2)-1)\n",
    "\n",
    "        return ((c[index1]+c[index2])/2)\n",
    "        \n",
    "    else:\n",
    "       print(\"False\")\n",
    "       indexes = int((Lc-1)/2)\n",
    "       print (indexes)\n",
    "       return c[indexes]\n",
    "            \n",
    "a =  [i for i in range(1, 100, 2)]\n",
    "b = [i for i in range(2, 100,1)]\n",
    "print (median([0, 2, 5, 6, 8], [9, 9]))    \n"
   ]
  },
  {
   "cell_type": "code",
   "execution_count": 61,
   "metadata": {},
   "outputs": [
    {
     "name": "stdout",
     "output_type": "stream",
     "text": [
      "[[1, 2, 3], [1, 3, 2], [2, 1, 3], [2, 3, 1], [3, 2, 1], [3, 1, 2]]\n"
     ]
    }
   ],
   "source": [
    "#permutations\n",
    "def permute(nums):\n",
    "    def backtrack(start=0):\n",
    "        if start == len(nums):\n",
    "            result.append(nums[:])  # Append a copy of nums to the result\n",
    "        for i in range(start, len(nums)):\n",
    "            nums[start], nums[i] = nums[i], nums[start]  # Swap\n",
    "            backtrack(start + 1)  # Recurse\n",
    "            nums[start], nums[i] = nums[i], nums[start]  # Backtrack\n",
    "\n",
    "    result = []\n",
    "    backtrack()\n",
    "    return result\n",
    "\n",
    "# Example usage\n",
    "nums = [1, 2, 3]\n",
    "all_permutations = permute(nums)\n",
    "print(all_permutations)"
   ]
  },
  {
   "cell_type": "code",
   "execution_count": 63,
   "metadata": {},
   "outputs": [
    {
     "name": "stdout",
     "output_type": "stream",
     "text": [
      "[[5, 6, 9, 2], [6, 5, 9, 2], [6, 9, 5, 2], [6, 9, 2, 5], [5, 9, 6, 2], [9, 5, 6, 2], [9, 6, 5, 2], [9, 6, 2, 5], [5, 9, 2, 6], [9, 5, 2, 6], [9, 2, 5, 6], [9, 2, 6, 5], [5, 6, 2, 9], [6, 5, 2, 9], [6, 2, 5, 9], [6, 2, 9, 5], [5, 2, 6, 9], [2, 5, 6, 9], [2, 6, 5, 9], [2, 6, 9, 5], [5, 2, 9, 6], [2, 5, 9, 6], [2, 9, 5, 6], [2, 9, 6, 5]]\n"
     ]
    }
   ],
   "source": [
    "def addperm(x,l):\n",
    "    return [ l[0:i] + [x] + l[i:]  for i in range(len(l)+1) ]\n",
    "\n",
    "def perm(l):\n",
    "    if len(l) == 0:\n",
    "        return [[]]\n",
    "    return [x for y in perm(l[1:]) for x in addperm(l[0],y) ]\n",
    "\n",
    "print (perm([ 5,6,9,2]))"
   ]
  },
  {
   "cell_type": "code",
   "execution_count": 126,
   "metadata": {},
   "outputs": [
    {
     "name": "stdout",
     "output_type": "stream",
     "text": [
      "[12, 12, 144, 3, 15, 15, 30, 5, 5, 1, 8]\n"
     ]
    }
   ],
   "source": [
    "def maximum(a):\n",
    "    max_val = a[0]\n",
    "    for val in a:\n",
    "        if val > max_val:\n",
    "            max_val = val\n",
    "    return max_val\n",
    "\n",
    "def gcd(a, b)->int:\n",
    "    divisors = []\n",
    "    for i in range(1, (b + 1)):\n",
    "        if a % i == 0 and b%i==0:\n",
    "            divisors.append(i)\n",
    "    return maximum(divisors)\n",
    "#better gcd --->\n",
    "# def gcd(a, b):\n",
    "    # while b != 0:\n",
    "    #     a, b = b, a % b\n",
    "    # return a\n",
    "\n",
    "def insertGCD(A):\n",
    "    index = 1\n",
    "    while index < len(A):\n",
    "        A.insert(index, gcd(A[index - 1], A[index]))\n",
    "        index += 2\n",
    "    return A\n",
    "print (insertGCD([12,144,15,30,5,8]))"
   ]
  },
  {
   "cell_type": "code",
   "execution_count": 47,
   "metadata": {},
   "outputs": [
    {
     "name": "stdout",
     "output_type": "stream",
     "text": [
      "The 10th Fibonacci number is 55\n",
      "the answer is 55\n"
     ]
    }
   ],
   "source": [
    "import math\n",
    "#closed form not a good way cause of the fraction result\n",
    "def fibonacci(x):\n",
    "    phi = (1 + math.sqrt(5)) / 2\n",
    "    psi = (1 - math.sqrt(5)) / 2\n",
    "    fibo = (1 / math.sqrt(5)) * (phi**x - psi**x)\n",
    "    return fibo\n",
    "n = 10  \n",
    "fib_n = fibonacci(n)\n",
    "print(f\"The {n}th Fibonacci number is {fib_n:.0f}\")  \n",
    "\n",
    "\n",
    "#another\n",
    "def recur_fibo(n):\n",
    "   if n <= 1:\n",
    "       return n\n",
    "   else:\n",
    "       return(recur_fibo(n-1) + recur_fibo(n-2))\n",
    "print (f\"the answer is {recur_fibo(10)}\")"
   ]
  },
  {
   "cell_type": "code",
   "execution_count": 3,
   "metadata": {},
   "outputs": [
    {
     "name": "stdout",
     "output_type": "stream",
     "text": [
      "70185\n"
     ]
    }
   ],
   "source": [
    "# You are given positive integers low, high, and k.\n",
    "# A number is beautiful if it meets both of the following conditions:\n",
    "#     The count of even digits in the number is equal to the count of odd digits.\n",
    "#     The number is divisible by k.\n",
    "# Return the number of beautiful integers in the range [low, high].\n",
    "\n",
    "import math\n",
    "def digits(n:int)->list:\n",
    "    if n < 0:\n",
    "        yield '-'\n",
    "        n = -1 * n\n",
    "    elif n == 0:\n",
    "        yield 0\n",
    "        return\n",
    "    xp = int(math.log(n, 10).real)\n",
    "    factor = 10**xp\n",
    "    while n:\n",
    "        yield int(n/factor)\n",
    "        n = n % factor\n",
    "        try:\n",
    "            xp, old_xp = int(math.log(n, 10).real), xp\n",
    "        except ValueError:\n",
    "            for _ in range(xp):\n",
    "                yield 0\n",
    "            return\n",
    "        factor = 10**xp\n",
    "        for _ in range(1, old_xp-xp):\n",
    "            yield 0\n",
    "    digitList = []\n",
    "    for i in digits(15):\n",
    "        digitList.append(i)\n",
    "    return digitList\n",
    "def prettyNum(low:int, high:int , k:int)->int:\n",
    "    listItems = []\n",
    "   \n",
    "    for i in range(low ,high+1):\n",
    "        even_count = 0\n",
    "        odd_count = 0\n",
    "        if (i % k == 0):\n",
    "            for j in digits(i):\n",
    "                if (j % 2 !=0):\n",
    "                    odd_count +=1\n",
    "                else:\n",
    "                    even_count +=1\n",
    "            if (even_count == odd_count):\n",
    "                listItems.append(i)\n",
    "    return len(listItems)\n",
    "\n",
    "\n",
    "print (prettyNum(10,10000000,4))\n",
    "             \n",
    "                \n",
    "    "
   ]
  },
  {
   "cell_type": "code",
   "execution_count": 4,
   "metadata": {},
   "outputs": [
    {
     "name": "stdout",
     "output_type": "stream",
     "text": [
      "70210\n"
     ]
    }
   ],
   "source": [
    "from functools import cache\n",
    "#this solution from leetcode is better\n",
    "def numberOfBeautifulIntegers(low: int, high: int, k: int) -> int:\n",
    "    def f(upper):\n",
    "        s = str(upper)\n",
    "        @cache\n",
    "        def dfs(i, val, diff, isLimit, isNum):\n",
    "            if i == len(s):\n",
    "                return int(isNum and val == 0 and diff == 0)\n",
    "            res = 0\n",
    "            if not isNum:\n",
    "                res = dfs(i+1, val, diff, False, False)\n",
    "            bottom = 0 if isNum else 1\n",
    "            top = int(s[i]) if isLimit else 9\n",
    "            for d in range(bottom, top + 1):\n",
    "                res += dfs(i+1, (val * 10 + d) % k, diff + d % 2 * 2 - 1, isLimit and d == top, True)\n",
    "            return res\n",
    "        return dfs(0, 0, 0, True, False)\n",
    "    \n",
    "    return f(high) - f(low-1)\n",
    "\n",
    "# Example usage:\n",
    "low = 10\n",
    "high = 10000000\n",
    "k = 4\n",
    "result = numberOfBeautifulIntegers(low, high, k)\n",
    "print(result)\n"
   ]
  },
  {
   "cell_type": "code",
   "execution_count": 19,
   "metadata": {},
   "outputs": [
    {
     "name": "stdout",
     "output_type": "stream",
     "text": [
      "[2, 3, 5, 7, 13, 15, 21]\n"
     ]
    },
    {
     "data": {
      "text/plain": [
       "7"
      ]
     },
     "execution_count": 19,
     "metadata": {},
     "output_type": "execute_result"
    }
   ],
   "source": [
    "# Given an integer n, return the number of prime numbers that are strictly less than n.\n",
    "\n",
    "import math\n",
    "def is_perfect_power(n):\n",
    "    if n <= 1:\n",
    "        return False\n",
    "    \n",
    "    for base in range(2, int(n**0.5) + 1):\n",
    "        exp = 2\n",
    "        while base**exp <= n:\n",
    "            if base**exp == n:\n",
    "                return True\n",
    "            exp += 1\n",
    "    \n",
    "    return False\n",
    "\n",
    "def multiplicative_order(a, n):\n",
    "    if math.gcd(a, n) != 1:\n",
    "        return -1\n",
    "    order = 1\n",
    "    k = 1\n",
    "    while (a**order) % n != 1:\n",
    "        order += 1\n",
    "        if order > n:\n",
    "            return -1\n",
    "    return order\n",
    "\n",
    "def is_prime_aks(n):\n",
    "    if n == 2:\n",
    "        return True\n",
    "    if n <= 1 or n % 2 == 0:\n",
    "        return False\n",
    "\n",
    "    if is_perfect_power(n):\n",
    "        return False\n",
    "\n",
    "    r = 2\n",
    "    max_k = math.isqrt(n)\n",
    "    while r <= max_k:\n",
    "        if math.gcd(r, n) == 1:\n",
    "            order = multiplicative_order(n, r)\n",
    "            if order > 1 and order < n:\n",
    "                break\n",
    "        r += 1\n",
    "    else:\n",
    "        return True\n",
    "\n",
    "    for a in range(1, r + 1):\n",
    "        if a > 1 and math.gcd(a, n) != 1:\n",
    "            continue\n",
    "        if pow(a, n, n) != pow(a, n % r, n):\n",
    "            return False\n",
    "    \n",
    "    return True\n",
    "\n",
    "def NumPrime (a:int)->int:\n",
    "    count = 0\n",
    "    primes = []\n",
    "    for i in range(2, a+1):\n",
    "       if (is_prime_aks(i)):\n",
    "           count +=1\n",
    "           primes.append(i)\n",
    "    print (primes)       \n",
    "    return count\n",
    "NumPrime(25)"
   ]
  },
  {
   "cell_type": "code",
   "execution_count": null,
   "metadata": {},
   "outputs": [],
   "source": [
    "\n",
    "    "
   ]
  }
 ],
 "metadata": {
  "kernelspec": {
   "display_name": "Python 3",
   "language": "python",
   "name": "python3"
  },
  "language_info": {
   "codemirror_mode": {
    "name": "ipython",
    "version": 3
   },
   "file_extension": ".py",
   "mimetype": "text/x-python",
   "name": "python",
   "nbconvert_exporter": "python",
   "pygments_lexer": "ipython3",
   "version": "3.10.12"
  }
 },
 "nbformat": 4,
 "nbformat_minor": 2
}
